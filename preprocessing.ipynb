{
 "cells": [
  {
   "cell_type": "code",
   "execution_count": 7,
   "metadata": {},
   "outputs": [],
   "source": [
    "import struct\n",
    "from tensorflow.core.example import example_pb2\n",
    "from google.protobuf import json_format\n",
    "import json\n",
    "import base64\n",
    "import pandas as pd\n",
    "import re\n",
    "import numpy as np\n",
    "from fastText import load_model\n",
    "import pickle"
   ]
  },
  {
   "cell_type": "markdown",
   "metadata": {},
   "source": [
    "### Functions"
   ]
  },
  {
   "cell_type": "code",
   "execution_count": 2,
   "metadata": {},
   "outputs": [],
   "source": [
    "# Read from processed binary data of the cnn-dm dataset.\n",
    "# The processing is in a format expected by the tensorflow code.\n",
    "# https://github.com/tatami-galaxy/pointer-generator/blob/master/data.py\n",
    "# Convert it to text data and store in csv format expected by torchtext\n",
    "def data_generator(data_path):\n",
    "    reader = open(data_path, 'rb')\n",
    "    while(True):\n",
    "        len_bytes = reader.read(8)\n",
    "        if not len_bytes: break\n",
    "        str_len = struct.unpack('q', len_bytes)[0]\n",
    "        example_str = struct.unpack('%ds' % str_len, reader.read(str_len))[0]\n",
    "        yield example_pb2.Example.FromString(example_str)"
   ]
  },
  {
   "cell_type": "code",
   "execution_count": 3,
   "metadata": {},
   "outputs": [],
   "source": [
    "def create_dict(input_file):\n",
    "    # Dictionary to hold list of articles and abstracts\n",
    "    dictionary = {'article' : [], 'abstract' : []}\n",
    "    # Iterate through generator\n",
    "    # https://github.com/dsindex/textsum/blob/master/check_data.py\n",
    "    for ret in data_generator(input_file):\n",
    "        json_string = json_format.MessageToJson(ret)\n",
    "        json_obj = json.loads(json_string)\n",
    "        feature = json_obj['features']['feature']\n",
    "        # Append article to article list\n",
    "        article = base64.b64decode(feature['article']['bytesList']['value'][0]).decode(\"utf-8\")\n",
    "        # Remove unnecessary tokens from article\n",
    "        article = re.sub(r\"-rrb-\", \"\", article)\n",
    "        article = re.sub(r\"-lrb-\", \"\", article)\n",
    "        article = re.sub(r\"-lsb-\", \"\", article)\n",
    "        article = re.sub(r\"-rsb-\", \"\", article)\n",
    "        article = re.sub(r\"cnn\", \"\", article)\n",
    "        dictionary['article'].append(article)\n",
    "        # Remove sentence delimiters from abstract\n",
    "        abstract = base64.b64decode(feature['abstract']['bytesList']['value'][0]).decode(\"utf-8\")\n",
    "        abstract = re.sub(r\"<s>\", \"\", abstract)\n",
    "        abstract = re.sub(r\"</s>\", \"\", abstract)\n",
    "        # Append abstract to abstract list\n",
    "        dictionary['abstract'].append(abstract)\n",
    "    return dictionary"
   ]
  },
  {
   "cell_type": "code",
   "execution_count": 4,
   "metadata": {},
   "outputs": [],
   "source": [
    "def write_to_text(input_files, output_file):\n",
    "    output_file = open(output_file, 'a')\n",
    "    for file in input_files:\n",
    "        dictionary = create_dict(file)\n",
    "        article_list = dictionary['article']\n",
    "        abstract_list = dictionary['abstract']\n",
    "        for i in range(len(article_list)):\n",
    "            output_file.write(abstract_list[i]+'\\n')\n",
    "            output_file.write(article_list[i]+'\\n')\n",
    "            \n",
    "    print('Done')"
   ]
  },
  {
   "cell_type": "code",
   "execution_count": 5,
   "metadata": {},
   "outputs": [],
   "source": [
    "def write_to_csv(input_file, output_file): \n",
    "    dictionary = create_dict(input_file)\n",
    "    # Create pandas dataframe and write to csv file \n",
    "    df = pd.DataFrame(data=dictionary)\n",
    "    df.to_csv(output_file, index=False)\n",
    "    print('Done')"
   ]
  },
  {
   "cell_type": "markdown",
   "metadata": {},
   "source": [
    "### Operations"
   ]
  },
  {
   "cell_type": "code",
   "execution_count": 30,
   "metadata": {},
   "outputs": [
    {
     "name": "stdout",
     "output_type": "stream",
     "text": [
      "Done\n",
      "Done\n",
      "Done\n"
     ]
    }
   ],
   "source": [
    "# Create datasets\n",
    "write_to_csv('finished_files/train.bin', 'datasets/train.csv')\n",
    "write_to_csv('finished_files/val.bin', 'datasets/val.csv')\n",
    "write_to_csv('finished_files/test.bin', 'datasets/test.csv')"
   ]
  },
  {
   "cell_type": "code",
   "execution_count": null,
   "metadata": {},
   "outputs": [],
   "source": [
    "# Create text file for making word embeddings\n",
    "input_files = ['finished_files/train.bin', 'finished_files/val.bin']\n",
    "write_to_text(input_files, 'finished_files/text.txt')"
   ]
  },
  {
   "cell_type": "code",
   "execution_count": 10,
   "metadata": {},
   "outputs": [],
   "source": [
    "# Fasttext embeddings trained on train and val sets\n",
    "# ./fasttext skipgram -input input_text_file -output output_model -dim 128 (fastText-0.1.0)\n",
    "fasttext_model = load_model('word_vectors/fasttext_model.bin')\n",
    "num_dims = 128\n",
    "\n",
    "# vocab contains frequent words apperaing in the text along with their frequencies\n",
    "# minimum frequency = 6\n",
    "vocab_file = open('finished_files/vocab')\n",
    "# Store appearing words\n",
    "vocab_words = {}\n",
    "for line in vocab_file:\n",
    "    li = line.split()\n",
    "    if len(li) == 2:\n",
    "        word, freq = li\n",
    "        vocab_words[word] = freq\n",
    "# Final word to id dictionary    \n",
    "word2id = {}\n",
    "tokens = ['<pad>', '<unk>', '<sos>', '<eos>']\n",
    "for token in tokens:\n",
    "    word2id[token] = len(word2id)\n",
    "# Retrieve words from fasttext model and keep only those which are also present in 'vocab'\n",
    "fasttext_words = fasttext_model.get_words()\n",
    "for word in fasttext_words:\n",
    "    if word in vocab_words:\n",
    "        word2id[word] = len(word2id)        \n",
    "vocab_size = len(word2id)\n",
    "# Reverse dictionary\n",
    "id2word = dict(zip(word2id.values(), word2id.keys()))\n",
    "# Embeddings\n",
    "embeddings = np.zeros((vocab_size, num_dims))\n",
    "# <pad> token vector contains all zeros. Rest sampled from a normal distribution\n",
    "mu, sigma = 0, 0.05\n",
    "for i in range(1, len(tokens)):\n",
    "    embeddings[i] = np.random.normal(mu, sigma, num_dims)\n",
    "# Get word vectors from fasttext model and store in embeddings matrix\n",
    "for i in range(len(tokens), vocab_size):\n",
    "    embeddings[i] = fasttext_model.get_word_vector(id2word[i])\n",
    "# Pickle vocab dictionaries and save    \n",
    "pickled_word2id = open('colab_files/word2id.pickle', 'wb')\n",
    "pickled_id2word = open('colab_files/id2word.pickle', 'wb')\n",
    "pickle.dump(word2id, pickled_word2id)\n",
    "pickle.dump(id2word, pickled_id2word)\n",
    "\n",
    "pickled_word2id.close()\n",
    "pickled_id2word.close()\n",
    "\n",
    "np.save('colab_files/embeddings', embeddings)"
   ]
  },
  {
   "cell_type": "code",
   "execution_count": null,
   "metadata": {},
   "outputs": [],
   "source": []
  }
 ],
 "metadata": {
  "kernelspec": {
   "display_name": "Python 3",
   "language": "python",
   "name": "python3"
  },
  "language_info": {
   "codemirror_mode": {
    "name": "ipython",
    "version": 3
   },
   "file_extension": ".py",
   "mimetype": "text/x-python",
   "name": "python",
   "nbconvert_exporter": "python",
   "pygments_lexer": "ipython3",
   "version": "3.5.2"
  }
 },
 "nbformat": 4,
 "nbformat_minor": 2
}
