{
 "cells": [
  {
   "cell_type": "code",
   "execution_count": 25,
   "metadata": {},
   "outputs": [],
   "source": [
    "import struct\n",
    "from tensorflow.core.example import example_pb2\n",
    "from google.protobuf import json_format\n",
    "import json\n",
    "import base64\n",
    "import pandas as pd\n",
    "import re"
   ]
  },
  {
   "cell_type": "code",
   "execution_count": 26,
   "metadata": {},
   "outputs": [],
   "source": [
    "# Read from processed binary data of the cnn-dm dataset.\n",
    "# The processing is in a format expected by the tensorflow code.\n",
    "# https://github.com/tatami-galaxy/pointer-generator/blob/master/data.py\n",
    "# Convert it to text data and store in csv format expected by torchtext\n",
    "def data_generator(data_path):\n",
    "    reader = open(data_path, 'rb')\n",
    "    while(True):\n",
    "        len_bytes = reader.read(8)\n",
    "        if not len_bytes: break\n",
    "        str_len = struct.unpack('q', len_bytes)[0]\n",
    "        example_str = struct.unpack('%ds' % str_len, reader.read(str_len))[0]\n",
    "        yield example_pb2.Example.FromString(example_str)"
   ]
  },
  {
   "cell_type": "code",
   "execution_count": 27,
   "metadata": {},
   "outputs": [],
   "source": [
    "def create_dict(input_file):\n",
    "    # Dictionary to hold list of articles and abstracts\n",
    "    dictionary = {'article' : [], 'abstract' : []}\n",
    "    # Iterate through generator\n",
    "    # https://github.com/dsindex/textsum/blob/master/check_data.py\n",
    "    for ret in data_generator(input_file):\n",
    "        json_string = json_format.MessageToJson(ret)\n",
    "        json_obj = json.loads(json_string)\n",
    "        feature = json_obj['features']['feature']\n",
    "        # Append article to article list\n",
    "        article = base64.b64decode(feature['article']['bytesList']['value'][0]).decode(\"utf-8\")\n",
    "        # Remove unnecessary tokens from article\n",
    "        article = re.sub(r\"-rrb-\", \"\", article)\n",
    "        article = re.sub(r\"-lrb-\", \"\", article)\n",
    "        article = re.sub(r\"-lsb-\", \"\", article)\n",
    "        article = re.sub(r\"-rsb-\", \"\", article)\n",
    "        article = re.sub(r\"cnn\", \"\", article)\n",
    "        dictionary['article'].append(article)\n",
    "        # Remove sentence delimiters from abstract\n",
    "        abstract = base64.b64decode(feature['abstract']['bytesList']['value'][0]).decode(\"utf-8\")\n",
    "        abstract = re.sub(r\"<s>\", \"\", abstract)\n",
    "        abstract = re.sub(r\"</s>\", \"\", abstract)\n",
    "        # Append abstract to abstract list\n",
    "        dictionary['abstract'].append(abstract)\n",
    "    return dictionary"
   ]
  },
  {
   "cell_type": "code",
   "execution_count": 28,
   "metadata": {},
   "outputs": [],
   "source": [
    "def write_to_text(input_files, output_file):\n",
    "    output_file = open(output_file, 'a')\n",
    "    for file in input_files:\n",
    "        dictionary = create_dict(file)\n",
    "        article_list = dictionary['article']\n",
    "        abstract_list = dictionary['abstract']\n",
    "        for i in range(len(article_list)):\n",
    "            output_file.write(abstract_list[i]+'\\n')\n",
    "            output_file.write(article_list[i]+'\\n')"
   ]
  },
  {
   "cell_type": "code",
   "execution_count": 29,
   "metadata": {},
   "outputs": [],
   "source": [
    "def write_to_csv(input_file, output_file): \n",
    "    dictionary = create_dict(input_file)\n",
    "    # Create pandas dataframe and write to csv file \n",
    "    df = pd.DataFrame(data=dictionary)\n",
    "    df.to_csv(output_file, index=False)\n",
    "    print('Done')"
   ]
  },
  {
   "cell_type": "code",
   "execution_count": 30,
   "metadata": {},
   "outputs": [
    {
     "name": "stdout",
     "output_type": "stream",
     "text": [
      "Done\n",
      "Done\n",
      "Done\n"
     ]
    }
   ],
   "source": [
    "write_to_csv('finished_files/train.bin', 'datasets/train.csv')\n",
    "write_to_csv('finished_files/val.bin', 'datasets/val.csv')\n",
    "write_to_csv('finished_files/test.bin', 'datasets/test.csv')"
   ]
  },
  {
   "cell_type": "code",
   "execution_count": null,
   "metadata": {},
   "outputs": [],
   "source": [
    "input_files = ['finished_files/train.bin', 'finished_files/val.bin']\n",
    "write_to_text(input_files, 'finished_files/text.txt')\n",
    "print('Done')"
   ]
  },
  {
   "cell_type": "code",
   "execution_count": null,
   "metadata": {},
   "outputs": [],
   "source": []
  }
 ],
 "metadata": {
  "kernelspec": {
   "display_name": "Python 3",
   "language": "python",
   "name": "python3"
  },
  "language_info": {
   "codemirror_mode": {
    "name": "ipython",
    "version": 3
   },
   "file_extension": ".py",
   "mimetype": "text/x-python",
   "name": "python",
   "nbconvert_exporter": "python",
   "pygments_lexer": "ipython3",
   "version": "3.5.2"
  }
 },
 "nbformat": 4,
 "nbformat_minor": 2
}
