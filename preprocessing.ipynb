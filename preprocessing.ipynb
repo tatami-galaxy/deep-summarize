{
 "cells": [
  {
   "cell_type": "code",
   "execution_count": 10,
   "metadata": {},
   "outputs": [],
   "source": [
    "import struct\n",
    "from tensorflow.core.example import example_pb2\n",
    "from google.protobuf import json_format\n",
    "import json\n",
    "import base64\n",
    "import pandas as pd\n",
    "import re"
   ]
  },
  {
   "cell_type": "code",
   "execution_count": 11,
   "metadata": {},
   "outputs": [],
   "source": [
    "# Read from processed binary data of the cnn-dm dataset.\n",
    "# The processing is in a format expected by the tensorflow code.\n",
    "# https://github.com/tatami-galaxy/pointer-generator/blob/master/data.py\n",
    "# Convert it to text data and store in csv format expected by torchtext\n",
    "def data_generator(data_path):\n",
    "    reader = open(data_path, 'rb')\n",
    "    while(True):\n",
    "        len_bytes = reader.read(8)\n",
    "        if not len_bytes: break\n",
    "        str_len = struct.unpack('q', len_bytes)[0]\n",
    "        example_str = struct.unpack('%ds' % str_len, reader.read(str_len))[0]\n",
    "        yield example_pb2.Example.FromString(example_str)"
   ]
  },
  {
   "cell_type": "code",
   "execution_count": 12,
   "metadata": {},
   "outputs": [],
   "source": [
    "def write_to_csv(input_file, output_file):\n",
    "    \n",
    "    # Dictionary to hold list of articles and abstracts\n",
    "    dictionary = {'article' : [], 'abstract' : []}\n",
    "    # Iterate through generator\n",
    "    # https://github.com/dsindex/textsum/blob/master/check_data.py\n",
    "    for ret in data_generator(input_file):\n",
    "        json_string = json_format.MessageToJson(ret)\n",
    "        json_obj = json.loads(json_string)\n",
    "        feature = json_obj['features']['feature']\n",
    "        # Append article to article list\n",
    "        dictionary['article'].append(base64.b64decode(\n",
    "            feature['article']['bytesList']['value'][0]).decode(\"utf-8\"))\n",
    "        # Remove sentence delimiters from abstract\n",
    "        abstract = base64.b64decode(feature['abstract']['bytesList']['value'][0]).decode(\"utf-8\")\n",
    "        abstract = re.sub(r\"<s>\", \"\", abstract)\n",
    "        abstract = re.sub(r\"</s>\", \"\", abstract)\n",
    "        # Append abstract to abstract list\n",
    "        dictionary['abstract'].append(abstract)\n",
    "    # Create pandas dataframe and write to csv file \n",
    "    df = pd.DataFrame(data=dictionary)\n",
    "    df.to_csv(output_file, index=False)\n",
    "    print('Done')"
   ]
  },
  {
   "cell_type": "code",
   "execution_count": 13,
   "metadata": {},
   "outputs": [
    {
     "name": "stdout",
     "output_type": "stream",
     "text": [
      "Done\n",
      "Done\n",
      "Done\n"
     ]
    }
   ],
   "source": [
    "write_to_csv('finished_files/train.bin', 'datasets/train.csv')\n",
    "write_to_csv('finished_files/val.bin', 'datasets/val.csv')\n",
    "write_to_csv('finished_files/test.bin', 'datasets/test.csv')"
   ]
  },
  {
   "cell_type": "code",
   "execution_count": null,
   "metadata": {},
   "outputs": [],
   "source": []
  }
 ],
 "metadata": {
  "kernelspec": {
   "display_name": "Python 3",
   "language": "python",
   "name": "python3"
  },
  "language_info": {
   "codemirror_mode": {
    "name": "ipython",
    "version": 3
   },
   "file_extension": ".py",
   "mimetype": "text/x-python",
   "name": "python",
   "nbconvert_exporter": "python",
   "pygments_lexer": "ipython3",
   "version": "3.5.2"
  }
 },
 "nbformat": 4,
 "nbformat_minor": 2
}
