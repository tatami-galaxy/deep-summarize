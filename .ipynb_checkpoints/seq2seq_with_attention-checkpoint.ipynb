{
 "cells": [
  {
   "cell_type": "code",
   "execution_count": 52,
   "metadata": {},
   "outputs": [],
   "source": [
    "import numpy as np\n",
    "import torch\n",
    "import torch.nn as nn\n",
    "from torch.autograd import Variable\n",
    "import torch.backends.cudnn as cudnn\n",
    "from torch.nn.utils.rnn import pack_padded_sequence, pad_packed_sequence\n",
    "import random\n",
    "import struct\n",
    "from tensorflow.core.example import example_pb2\n",
    "from google.protobuf import json_format\n",
    "import json\n",
    "import base64\n",
    "import pandas as pd\n",
    "import re"
   ]
  },
  {
   "cell_type": "code",
   "execution_count": 55,
   "metadata": {},
   "outputs": [],
   "source": [
    "# Wikipedia 2014 + Gigaword 5 (6B tokens, 400K vocab, uncased, 300d vectors)\n",
    "vocab_file = open('word_vectors/glove.6B/glove.6B.300d.txt')"
   ]
  },
  {
   "cell_type": "code",
   "execution_count": 56,
   "metadata": {},
   "outputs": [],
   "source": [
    "num_words = 400000 + 4\n",
    "num_dims = 300\n",
    "\n",
    "id2word = {}\n",
    "word2id = {}\n",
    "embeddings = np.zeros((num_words, num_dims))\n",
    "i = 0\n",
    "\n",
    "word2id['<pad>'] = len(word2id)\n",
    "embeddings[i] = np.zeros(num_dims)\n",
    "i += 1\n",
    "word2id['<unk>'] = len(word2id)\n",
    "embeddings[i] = np.random.normal(scale=0.05, size=num_dims)\n",
    "i += 1\n",
    "word2id['<eos>'] = len(word2id)\n",
    "embeddings[i] = np.random.normal(scale=0.05, size=num_dims)\n",
    "i += 1\n",
    "word2id['<sos>'] = len(word2id)\n",
    "embeddings[i] = np.random.normal(scale=0.05, size=num_dims)\n",
    "i += 1\n",
    "\n",
    "for line in vocab_file:\n",
    "    items = line.split()\n",
    "    word2id[items[0]] = len(word2id)\n",
    "    embeddings[i] = np.asarray([float(value) for value in items[1:]], dtype=np.float64)\n",
    "    i += 1\n",
    "id2word = dict(zip(word2id.values(), word2id.keys()))"
   ]
  },
  {
   "cell_type": "code",
   "execution_count": 2,
   "metadata": {},
   "outputs": [],
   "source": [
    "# Generator to lazy load article-abstract pairs as binary data\n",
    "# https://github.com/tatami-galaxy/pointer-generator/blob/master/data.py\n",
    "def example_generator(dataset):\n",
    "    reader = open(dataset, 'rb')\n",
    "    while True:\n",
    "        len_bytes = reader.read(8)\n",
    "        if not len_bytes: break # finished reading this file\n",
    "        str_len = struct.unpack('q', len_bytes)[0]\n",
    "        example_str = struct.unpack('%ds' % str_len, reader.read(str_len))[0]\n",
    "        yield example_pb2.Example.FromString(example_str)"
   ]
  },
  {
   "cell_type": "code",
   "execution_count": null,
   "metadata": {},
   "outputs": [],
   "source": [
    "# Decode processed example into article-abstract pair\n",
    "def get_example(generator):\n",
    "    example = generator.__next__()\n",
    "    json_string = json_format.MessageToJson(example)\n",
    "    json_obj = json.loads(json_string)\n",
    "    feature = json_obj['features']['feature']\n",
    "    article = base64.b64decode(feature['article']['bytesList']['value'][0]).decode(\"utf-8\")           \n",
    "    # Remove sentence delimiters from abstract\n",
    "    abstract = base64.b64decode(feature['abstract']['bytesList']['value'][0]).decode(\"utf-8\")\n",
    "    abstract = re.sub(r\"<s>\", \"\", abstract)\n",
    "    abstract = re.sub(r\"</s>\", \"\", abstract)\n",
    "    return article, abstract"
   ]
  },
  {
   "cell_type": "code",
   "execution_count": 11,
   "metadata": {},
   "outputs": [],
   "source": [
    "batch_size = 64\n",
    "\n",
    "class BatchIterator:\n",
    "    \n",
    "    def __init__(self, dataset, batch_size):\n",
    "        self.dataset = dataset\n",
    "        self.batch_size = batch_size\n",
    "        self.pointer = 0\n",
    "        self.generator = example_generator(self.dataset)\n",
    "        \n",
    "    def __iter__(self):\n",
    "        return self\n",
    "    \n",
    "    def __next__(self):\n",
    "        if self.pointer >= self.batch_size: raise StopIteration      \n",
    "        \n",
    "        for b in range(self.batch_size):\n",
    "            article, abstract = get_example(self.generator)\n",
    "            "
   ]
  },
  {
   "cell_type": "code",
   "execution_count": 16,
   "metadata": {},
   "outputs": [
    {
     "name": "stdout",
     "output_type": "stream",
     "text": [
      "-lrb- cnn -rrb- the only thing crazier than a guy in snowbound massachusetts boxing up the powdery white stuff and offering it for sale online ? people are actually buying it . for $ 89 , self-styled entrepreneur kyle waring will ship you 6 pounds of boston-area snow in an insulated styrofoam box -- enough for 10 to 15 snowballs , he says . but not if you live in new england or surrounding states . `` we will not ship snow to any states in the northeast ! '' says waring 's website , shipsnowyo.com . `` we 're in the business of expunging snow ! '' his website and social media accounts claim to have filled more than 133 orders for snow -- more than 30 on tuesday alone , his busiest day yet . with more than 45 total inches , boston has set a record this winter for the snowiest month in its history . most residents see the huge piles of snow choking their yards and sidewalks as a nuisance , but waring saw an opportunity . according to boston.com , it all started a few weeks ago , when waring and his wife were shoveling deep snow from their yard in manchester-by-the-sea , a coastal suburb north of boston . he joked about shipping the stuff to friends and family in warmer states , and an idea was born . his business slogan : `` our nightmare is your dream ! '' at first , shipsnowyo sold snow packed into empty 16.9-ounce water bottles for $ 19.99 , but the snow usually melted before it reached its destination . so this week , waring began shipping larger amounts in the styrofoam cubes , which he promises will arrive anywhere in the u.s. in less than 20 hours . he also has begun selling a 10-pound box of snow for $ 119 . many of his customers appear to be companies in warm-weather states who are buying the snow as a gag , he said . whether waring can sustain his gimmicky venture into the spring remains to be seen . but he has no shortage of product . `` at this rate , it 's going to be july until the snow melts , '' he told boston.com . `` but i 've thought about taking this idea and running with it for other seasonal items . maybe i 'll ship some fall foliage . ''\n",
      " a man in suburban boston is selling snow online to customers in warmer states .   for $ 89 , he will ship 6 pounds of snow in an insulated styrofoam box . \n",
      "-lrb- cnn -rrb- on the 6th of april 1996 , san jose clash and dc united strode out in front of 31,683 expectant fans at the spartan stadium in san jose , california . the historic occasion was the first ever major league soccer match -- a brave new dawn for the world 's favorite sport in a land its charms had yet to conquer . summarizing the action for espn , commentator ty keough eagerly described the momentous `` birth of a new era for american soccer . '' looking back at footage from that balmy evening now it 's hard not to feel a certain nostalgia . baggy shirts , questionable hairstyles and strange rule adaptations to make games more exciting were all part of the formative mls experience . countdown clocks were employed to provide drama at the end of each half . even more bizarrely , tied games were settled by shootouts that saw attacking players run with the ball from 35-yards out before attempting to beat the opposing goalkeeper . as the mls prepares to mark the beginning of its 20th season , it 's hard to comprehend just how much the league has progressed in the intervening period . long gone is the desire to tamper with the rules of the game for a start . attendances are higher than ever before while the number of teams involved has doubled from 10 in the 1996 campaign to 20 in 2015 . a further four are set to be added by 2020 . on top of this , the new season is the first of a new domestic tv and media rights deal with fox , espn and univision worth $ 700 million over eight years . this figure may pale beside the $ 5.1 billion recently paid by uk broadcasters for the english premier league , the richest football league in the world , but it represents a tripling in value of the previous mls deal . according to phil rawlins , co-primary owner and president of the new mls franchise , orlando city soccer club , `` the industry and the game itself has moved on dramatically '' in the u.s. . he believes what would equal 50 years growth in most other industries has been experienced in the first two decades of the mls . rawlins ' club is a prime example of this rapid transformation . he describes players being pushed out of changing facilities because of a schedule clash with a yoga class not so long ago . this weekend 60,000 fans are expected to witness orlando city 's opening weekend fixture against new york city , another new club making their mls bow . world cup winners kaka and david villa will turn out for orlando and new york city respectively . `` we 're just on the crest of the wave at the moment , '' rawlins said of football 's american progress . `` can it be the number two , number three sport in this country ? yes , i think it can . and it can be in a short space of time . '' these positive assertions are backed by the huge interest u.s. fans showed in last year 's world cup in brazil . team usa 's group stage clash with portugal attracted 25 million viewers , according to figures from tv ratings firm , nielsen . that 's considerably more than the 15 million baseball 's 2013 world series averaged on fox or the similar audience that tuned into the 2014 nba finals on abc . anyone who saw 20,000 pumped-up young fans pack out chicago 's grant park to cheer on their country via big screens , meanwhile , would find it hard to argue against soccer in the u.s. now being anything other than a big deal . reaching this promising stage , however , has been anything but a smooth ride . the mls was reported to have lost as much as $ 250 million in its first five years while average attendances initially dwindled after the inaugural season . three teams -- miami fusion , tampa bay mutiny -lrb- both in 2001 -rrb- and chivas usa -lrb- 2014 -rrb- -- were disbanded along the way due to a mixture of lack of fan interest and ownership troubles . a report by forbes at the end of 2013 , meanwhile , claimed that only 10 out of 19 mls teams were profitable . and as recently as this week , mls players looked like they could be going on strike over wages and the right of players to become free agents when their contracts end . then there 's the way the league develops , attracts and trades players . a salary cap restricts the amount teams can spend on playing squads . each side , however , has a number of spaces that can be allocated to `` off budget '' signings which are not included within the cap . this includes promising generation adidas players who enter the mls through the draft systems before completing their college education . homegrown players from club 's development academies are also exempt as are a maximum of three designated players -lrb- dps -rrb- , usually stellar international names whose wages and transfer fees will be covered by club owners or sponsors . one of the main criticisms of the mls and its complex player acquisition rulebook is that while it does entice prominent stars of the game like david beckham , freddie ljungberg and thierry henry to appear in the mls , it only does so when their careers are on a downward trajectory . why would an exceptional player want to move to a league that can only attract a handful of top talents at any one time , after all ? and herein lies one of the leagues biggest challenges in attracting and keeping the talented players fans want to see . although the likes of the salary cap encourages fiscal probity , it means mls teams are restricted by rules clubs in other markets are not . head coach of sporting kansas , peter vermes , highlighted these difficulties in comments carried by the kansas city star newspaper last year . `` we 're in a place where at times you ca n't compete with foreign clubs because of the kind of dynamics they have in regards to finances . we have a salary cap . they do n't , '' vermes said . according to paulo teixeira , a football agent who has worked to bring in and sell players from the league in recent years , current philosophies with regards player-trading may be have to be tweaked to help the mls grow yet further . he describes the importance of placing an emphasis on attracting younger players with european passports . such talented individuals will have a sell-on value that can be recouped by the league and their clubs if they move on from the mls to the biggest and wealthiest leagues across the atlantic . theoretically , at least , this money can then be reinvested in the league , player development and attracting yet more promising players to the mls . this in turn will raise the standard further . an early example of this strategy can perhaps be found in the transfer of oriol rossell , a spanish midfielder who moved from sporting kansas to sporting lisbon last year in a deal brokered by teixeira . rossell arrived on a free transfer aged 20 after being released by fc barcelona in 2012 . he excelled at kansas , winning the mls cup before being sold to the portuguese giants at a profit in june 2014 . teixeira is quick to make clear such plans would need good scouting systems to truly flourish . it could also be achieved by signing dps closer to the peak stage of their career , he added . this last point is something that appears be happening already . `` before they used to have a lot of big names who could no longer run in europe , '' teixeira said . '' -lrb- but -rrb- villa is not an old guy , -lrb- frank -rrb- lampard is still going strong '' and both could still offer something to teams in europe , he said by way of example of new york city 's first dp signings . nevertheless , he continued , the signing of more young players with big potential `` is probably something we 'll see more of . '' whether teixeira is correct will become apparent in the months and years ahead . either way , that brave new mls dawn that broke over san jose back in 1996 has turned into a bright morning . cnn 's don riddell contributed to this story .\n",
      " the 20th mls season begins this weekend .   league has changed dramatically since its inception in 1996 .   some question whether rules regarding salary caps and transfers need to change . \n",
      "-lrb- cnn -rrb- french striker bafetimbi gomis , who has a history of fainting , said he is now `` feeling well '' after collapsing during swansea 's 3-2 loss at tottenham in the premier league on wednesday . the worrying incident occurred in the first half at white hart lane -- after tottenham scored in the seventh minute -- but the 29-year-old left the pitch conscious following about five minutes of treatment . the guardian added that he was wearing an oxygen mask . play was temporarily stopped before resuming . as the match progressed , swansea tweeted that gomis was `` fine , '' with manager garry monk using the same word to describe gomis ' condition . gomis spent the night in hospital as a precaution , swansea said on its website . `` i wanted to reassure you concerning my health , '' gomis told the website . `` it actually looks much scarier than it is physically dangerous , and i am feeling well now . `` i have been under a great deal of stress and fatigue due to my father 's health , which requires me to go back and forth from france . `` i was disappointed that i could n't help my team tonight , but now everything is back in order . i also want to thank everyone for their support and get well messages . '' gomis had similar fainting spells in france , which prompted the president of his former club , jean-michel aulas of lyon , to tell french television in 2009 : `` we ca n't not be worried , it scares you each time . '' swansea ran tests on gomis , said monk , prior to signing him on a free transfer last july . `` he just has a little bit of low blood pressure which causes you a little bit of problems , '' monk said in a televised interview on sky . `` it 's been part of his life . we were well aware of that when we signed him . he 's done all the hospital checks and all the medical checks you can possibly do and it 's just part of his life . `` it 's no problems whatsoever . it 's not as serious as it looks . '' gomis has scored two league goals for swansea this season , mostly in a backup role . he became the welsh side 's top striker when wilfried bony signed with manchester city in january . almost exactly three years ago at white hart lane , then bolton midfielder fabrice muamba collapsed after suffering a cardiac arrest . he was near death , according to bolton , but survived after being treated at the london chest hospital . he subsequently retired . other footballers , including cameroon international marc-vivien foe in 2003 and spanish international antonio puerta in 2007 , did n't survive after collapsing on the pitch .\n",
      " bafetimbi gomis collapses within 10 minutes of kickoff at tottenham .   but he reportedly left the pitch conscious and wearing an oxygen mask .   gomis later said that he was `` feeling well ''   the incident came three years after fabrice muamba collapsed at white hart lane . \n",
      "-lrb- cnn -rrb- my vote for father of the year goes to curt schilling . the former major league baseball pitcher recently fired off a series of fastballs and mowed down a group of twitter trolls who made the mistake of tweeting vulgar and sexually-explicit comments about schilling 's teenage daughter . the drama started , innocently enough , on february 25 , when schilling played the role of a proud father . he sent a tweet congratulating his daughter , gabby , on being accepted to salve regina university , where she 'll play softball . it read : `` congrats to gabby schilling who will pitch for the salve regina seahawks next year !! -- curt schilling -lrb- @gehrig38 -rrb- '' almost immediately , responses came in from young men , complete strangers who apparently followed schilling on twitter . the tweets quickly went from immature , to creepy , to repugnant . threats of rape were common . the tweets were deleted , and the accounts were closed after this story went viral . but not before schilling captured some of the images and posted them on his blog . what was said about 17-year-old gabby schilling was n't just obnoxious . it was vile and obscene . what was said was n't just mean and ugly . it was threatening and scary . as a parent , it 's the kind of thing that makes you rethink your opposition to public caning as a logical punishment for such transgressions . these misogynistic cowards may have thought they could hide in the darkness of anonymity , the sort that many have come to expect from social media sites , where you feel free to be a despicable human being because , you think , no one will ever find out who you really are and hold you accountable for your words . if so , they thought wrong . they could n't hide . they were found out , and they got the throttling they so richly deserved . thanks to dad . according to schilling , who made it his mission to track down these cretins and make sure those they associate with know who they really are , two people have already paid a price due to their tweets . one was a student disc jockey at a community college in new jersey , who was suspended , and the other was a part-time ticket seller for the new york yankees , who was fired . concerned that this is an example of exactly the kind of cyberbullying that leads some teenagers to commit suicide , schilling is also thinking about taking legal action against some of the other people involved . bravo for him . i 'm sure that , all across america , dads with daughters -- after reading some of the horrible things that were said about this young girl -- are marveling at schilling 's self-control . i have two daughters of my own , and he 's a better man than me . if ever there was a case where profanity-spewing malcontents deserved to have their mouths washed out with soap , this is it . so what additional insights can we draw , and what larger lessons can we learn , from this unexpected but predictable collision of old-fashioned parenthood and newfangled media ? there are a few . the first is about accountability , the very thing that the young men who posted these hurtful messages were trying to avoid . but schilling would n't let them . at their best , social media sites like twitter , facebook , instagram and others allow the sharing the information and the building of a sense of community . at their worst , they become digital sandboxes and locker rooms where people think have a license to misbehave without having to worry about consequences . we need to applaud efforts like this that promote greater online accountability . there 's also something to be said about protective parents , and how essential they are to a working society . we should still be concerned about those overprotective parents who hover like helicopters from little league to job interviews . we should n't bubblewrap our kids , and keep them from playing outdoors , and then sit around wondering why they 're soft , timid , and risk-averse . but protective parents -- the kind who shield their kids from real danger -- never go out of style . a parent 's top job is to protect his children . schilling did his job . finally , it 's worth reminding everyone that freedom of expression does not mean freedom from rules , standards , and expectations that should guide your behavior . there are things you do n't say . there are boundaries , ways that we expect you to behave so you do n't terrorize other people or bring shame upon yourself , your friends , and your family . if you do n't have social skills , you do n't belong on social media . the tweets make you wince . but in this story , you 'll still find plenty to smile about . this whole drama unfolded because schilling was proud of his daughter . now , given how he reacted , we all have reason to be proud of him .\n",
      " ruben navarrette : schilling deserves praise for taking on online haters for offensive comments about his daughter .   navarrette : in protecting his child , schilling set a model for parenting and taught us a lesson about social media . \n",
      "-lrb- cnn -rrb- it was an act of frustration perhaps more commonly associated with golf 's fictional anti-hero happy gilmore than the world 's reigning no 1 . player . but when rory mcilroy pulled his second shot on the eighth hole of the wgc cadillac championship into a lake friday , he might as well have been channeling the much loved adam sandler character . before continuing his round with a dropped ball , the four-time major winner launched the 3-iron used to play the offending shot into the water as well . '' -lrb- it -rrb- felt good at the time , '' a rueful mcilroy later said of the incident in comments carried by the pga tour website . `` i just let frustration get the better of me . it was heat of the moment , and i mean , if it had of been any other club i probably would n't have but i did n't need a 3‑iron for the rest of the round so i thought , why not . '' the club `` must have went a good 60 , 70 yards , '' he joked . mcilroy composed himself to finish with a second round of 70 , leaving him one-under for the tournament and eight shots off the pace set by leader jb holmes . while an improvement on last weeks performance at the honda classic event , where he failed to make the cut , the northern irishman 's frustration with elements of his game was still clear . `` i think every golfer feels it because i do n't hit shots like the one i hit on 8 on the range , '' he said . `` that 's what really bothers me , the fact that i get out on the course and i hit shots that i 'm not seeing when i 'm in a more relaxed environment . `` so it 's a little bit of mental , a little bit of physical . it 's just everything is not quite matching up . '' elsewhere on the course , ryan holmes scored a two-under-par 71 to remain in second position overall , two shots behind holmes . former world no 1. , adam scott carded an impressive 68 to finish the day three shots off the pace at six-under while bubba watson and henrik stenson are tied for fourth on four-under .\n",
      " rory mcilroy throws club into water at wgc cadillac championship .   northern irishman frustrated after pulling shot into water hazard . \n",
      "-lrb- cnn -rrb- former vice president walter mondale was released from the mayo clinic on saturday after being admitted with influenza , hospital spokeswoman kelley luckstein said . `` he 's doing well . we treated him for flu and cold symptoms and he was released today , '' she said . mondale , 87 , was diagnosed after he went to the hospital for a routine checkup following a fever , former president jimmy carter said friday . `` he is in the bed right this moment , but looking forward to come back home , '' carter said during a speech at a nobel peace prize forum in minneapolis . `` he said tell everybody he is doing well . '' mondale underwent treatment at the mayo clinic in rochester , minnesota . the 42nd vice president served under carter between 1977 and 1981 , and later ran for president , but lost to ronald reagan . but not before he made history by naming a woman , u.s. rep. geraldine a. ferraro of new york , as his running mate . before that , the former lawyer was a u.s. senator from minnesota . his wife , joan mondale , died last year .\n",
      " walter mondale was released from the mayo clinic on saturday , hospital spokeswoman said .   the former vice president , 87 , was treated for cold and flu symptoms . \n",
      "-lrb- cnn -rrb- share , and your gift will be multiplied . that may sound like an esoteric adage , but when zully broussard selflessly decided to give one of her kidneys to a stranger , her generosity paired up with big data . it resulted in six patients receiving transplants . that surprised and wowed her . `` i thought i was going to help this one person who i do n't know , but the fact that so many people can have a life extension , that 's pretty big , '' broussard told cnn affiliate kgo . she may feel guided in her generosity by a higher power . `` thanks for all the support and prayers , '' a comment on a facebook page in her name read . `` i know this entire journey is much bigger than all of us . i also know i 'm just the messenger . '' cnn can not verify the authenticity of the page . but the power that multiplied broussard 's gift was data processing of genetic profiles from donor-recipient pairs . it works on a simple swapping principle but takes it to a much higher level , according to california pacific medical center in san francisco . so high , that it is taking five surgeons , a covey of physician assistants , nurses and anesthesiologists , and more than 40 support staff to perform surgeries on 12 people . they are extracting six kidneys from donors and implanting them into six recipients . `` the ages of the donors and recipients range from 26 to 70 and include three parent and child pairs , one sibling pair and one brother and sister-in-law pair , '' the medical center said in a statement . the chain of surgeries is to be wrapped up friday . in late march , the medical center is planning to hold a reception for all 12 patients . here 's how the super swap works , according to california pacific medical center . say , your brother needs a kidney to save his life , or at least get off of dialysis , and you 're willing to give him one of yours . but then it turns out that your kidney is not a match for him , and it 's certain his body would reject it . your brother can then get on a years-long waiting list for a kidney coming from an organ donor who died . maybe that will work out -- or not , and time could run out for him . alternatively , you and your brother could look for another recipient-living donor couple like yourselves -- say , two more siblings , where the donor 's kidney is n't suited for his sister , the recipient . but maybe your kidney is a match for his sister , and his kidney is a match for your brother . so , you 'd do a swap . that 's called a paired donation . it 's a bit of a surgical square dance , where four people cross over partners temporarily and everybody goes home smiling . but instead of a square dance , broussard 's generous move set off a chain reaction , like dominoes falling . her kidney , which was removed thursday , went to a recipient , who was paired with a donor . that donor 's kidney went to the next recipient , who was also paired with a donor , and so on . on friday , the last donor will give a kidney to someone who has been biding time on one of those deceased donor lists to complete the chain . such long-chain transplanting is rare . it 's been done before , california pacific medical center said in a statement , but matching up the people in the chain has been laborious and taken a long time . that changed when a computer programmer named david jacobs received a kidney transplant . he had been waiting on a deceased donor list , when a live donor came along -- someone nice enough to give away a kidney to a stranger . jacobs paid it forward with his programming skills , creating matchgrid , a program that genetically matches up donor pairs or chains quickly . `` when we did a five-way swap a few years ago , which was one of the largest , it took about three to four months . we did this in about three weeks , '' jacobs said . but this chain would n't have worked so quickly without broussard 's generosity -- or may not have worked at all . `` the significance of the altruistic donor is that it opens up possibilities for pairing compatible donors and recipients , '' said dr. steven katznelson . `` where there had been only three or four options , with the inclusion of the altruistic donor , we had 140 options to consider for matching donors and recipients . '' and that 's divine , broussard 's friend shirley williams wrote in a comment her on broussard 's facebook page . `` you are a true angel my friend . ''\n",
      " zully broussard decided to give a kidney to a stranger .   a new computer program helped her donation spur transplants for six kidney patients . \n",
      "london -lrb- cnn -rrb- a photo of a weasel hitching a surprise lift on the back of a flying woodpecker near london has gone viral on twitter , with more than 7,000 users retweeting the original post of the image . it was first posted by photographer jason ward on monday and credited to martin le-may . after #weaselpecker gained momentum , british media soon picked up the story , and television channel itv interviewed le-may . the amateur photographer from essex , near london , told the broadcaster he had been walking with his wife in hornchurch country park , essex , when they heard `` a distressed squawking '' noise and spotted the woodpecker . `` just after i switched from my binoculars to my camera the bird flew across us and slightly in our direction ; suddenly it was obvious it had a small mammal on its back and this was a struggle for life , '' le-may said . eventually , le-may told itv , the weasel -- known as a `` least weasel '' in some countries -- lost its grip and the bird flew away . marina pacheco , chief executive of britain 's mammal society told cnn the image looked genuine and that it was possible an omnivorous weasel would take on a woodpecker . `` weasels will go for anything that looks like food -- they 've got a high metabolism and they 've got to eat a lot , '' she said . `` it does n't surprise me that a weasel took a punt -- i 've seen a photo of a weasel charging a group of sparrows , they 're very hungry animals . '' but she said the weasel , which would generally try to break the neck of its prey to subdue it , may have exceeded its abilities in this case . `` i think it was a bit of a long shot -- it looks like it tried to grab the neck of the woodpecker to break it , '' pacheco said . `` i think that it probably does n't have a big enough jaw to bite through the spine of the woodpecker . '' weasels would not normally target green woodpeckers , pacheco said -- their predators are normally the size of a stoat or larger . but the birds are known to spend a fair amount of time on the ground pulling up worms and hunting insects . `` if the woodpecker had managed to hit the weasel with its beak it would have been the end of the weasel , '' she said . `` they 're quite gung-ho little creatures . '' the pluckiness of the weasel spawned a number of parodies on twitter , with manipulated images showing the creature in turn being ridden by russian president vladimir putin , popstar miley cyrus , football star john terry -- and even what appears to be a dog red panda dressed in a darth vader costume . -lrb- update : twitter has now educated us on the difference between a dog and a red panda . sorry , darth ! -rrb- . as for the bird ? the green woodpecker is also known as a `` yaffle '' for its laughing call . after the shock of being targeted by a hungry weasel wears off , we can only hope it lives up to its nickname .\n",
      " a photo of a green woodpecker flying with a weasel on its back has gone viral on twitter .   the image was snapped by amateur photographer martin le-may near london .   it sparked the hashtag #weaselpecker and has spawned numerous memes . \n",
      "-lrb- cnn -rrb- a pennsylvania community is pulling together to search for an eighth-grade student who has been missing since wednesday . the search has drawn hundreds of volunteers on foot and online . the parents of cayman naib , 13 , have been communicating through the facebook group `` find cayman '' since a day after his disappearance , according to close friend david binswanger . newtown police say cayman was last seen wearing a gray down winter jacket , black ski pants and hiking boots . he could be in the radnor-wayne area , roughly 20 miles from philadelphia , or may have purchased a train ticket to philadelphia , according to an alert posted on facebook . `` we think that he got a email from school and was upset by it and left as an impulsive act , '' farid naib , cayman 's father , wrote thursday on the group page . `` we have spoken to his friends and they do not know where he is . cayman does have his phone , we do n't know if he has any cash , he does not have his wallet . '' the parents said that his phone was out of power at the time . `` cayman left within 30 minutes after he received an email from school regarding overdue home work -lrb- we do not blame the school -rrb- and most probably did not do any pre planning ... he is a good kid , and has no substance abuse or other issues , this is the first time he has ever done anything like this , '' his father and mother , becky naib , posted friday . the parents wrote saturday that cayman was not wearing waterproof clothing and that he did not take his backpack . binswanger said weather limited search efforts wednesday , the night cayman went missing . wednesday it was rainy and thursday there was 6-8 inches of snow . hundreds of volunteers have stepped up to pass out fliers and to canvass areas , according to posts . a post late saturday explained search efforts included `` advanced , geo-spacial tracking software to determine the exact locations where searchers went , '' and added that the search would be taken to the skies sunday with deployment of the civil air patrol . in many posts , the families appealed directly to their son . `` cayman , if you read this please know that you are forgiven for everything , and i mean everything , you have the ultimate free pass . just come home , we are so worried about you '' the family posted saturday . a message to families from the head of the shipley school , which cayman attends , read in part : `` cayman 's sister savannah is in ninth grade at shipley and his parents , farid and becky , are terrific people . they have contacted police and are aware that we are sending you this email . we hope that cayman is ok and are saying our prayers . '' cnn could not immediately get in touch with police or the fbi .\n",
      " cayman naib , 13 , has n't been heard from since wednesday .   police , family , volunteers search for eighth-grader . \n",
      "-lrb- cnn -rrb- a shooting at a bar popular with expatriates in mali on saturday killed five people , including french and belgian citizens , authorities said . one french citizen , one belgian and three malians were killed in the attack in the capital of bamako , said gabriel toure , director of a local hospital . an additional eight people were wounded , he said . authorities called the shooting a `` criminal and terrorist act . '' `` mali remains committed to seeking peace and will not be intimidated by those who have no other motives than to do away -lrb- with -rrb- the prospects of peace and harmony amongst the malians , '' the government said in a statement . a north african jihadist group , al-murabitun , claimed responsibility for the attack , according to mauritanian news agency al akhbar . the purported claim came in an audio message in which the group said it carried out the attack in retaliation for the killing of one of its leaders , al akhbar said . `` al-murabitun may be considered a regional competitor to al-qaeda in the islamic maghreb -lrb- aqim -rrb- , '' according to the jamestown foundation , a washington-based research and analysis firm . the u.s. state department said in january that al-murabitun is a `` newly-formed '' militant group that has presence in northern mali . french foreign minister laurent fabius said the victim from his country was 31 years old . french president francois hollande released a statement condemning the attack . u.s. secretary of state john kerry expressed his condolences to the victims ' families in a news conference in paris on saturday . `` this is an act of cowardice , '' he said . `` but an act of opening fire in a restaurant filled with innocent civilians -- in the end , that only strengthens our resolve to fight terrorism in all of its forms , wherever it exists . '' the french embassy in bamako warned its citizens to be on alert if they go out in public . though it 's unclear whether any rebel group is responsible for the attack , malian forces have battled islamist militants in the northern part of the nation for years . fabius said the malian government was interrogating some suspects . mali plunged into chaos after soldiers staged a coup three years ago . as a result , tuareg fighters capitalized on the power vacuum to launch an insurgency that ended with their takeover of the north . after the tuareg fighters seized the region , a power struggle erupted with local islamist radicals . the extremists toppled the tribe and seized control of a large piece of northern mali , an area the size of france . since then , the nation has battled various rebel factions , mostly in the northern region , with the help of french and african forces . cnn 's brian walker , joshua berlinger and christabelle fombu contributed to this report .\n",
      " a jihadist group claims responsibility in an audio recording , news agency reports .   the malian government calls the shooting a `` terrorist act ''   one french citizen , one belgian and three malians are killed . \n"
     ]
    }
   ],
   "source": [
    "batch_iter = BatchIterator('finished_files/val.bin', 10)\n",
    "batch_iter.__next__()"
   ]
  },
  {
   "cell_type": "code",
   "execution_count": null,
   "metadata": {},
   "outputs": [],
   "source": [
    "def create_iterator(dataset):\n",
    "    for example in data_generator(dataset):\n",
    "        json_string = json_format.MessageToJson(example)\n",
    "        json_obj = json.loads(json_string)\n",
    "        feature = json_obj['features']['feature']\n",
    "\n",
    "        base64.b64decode(feature['article']['bytesList']['value'][0]).decode(\"utf-8\")\n",
    "        # Remove sentence delimiters from abstract\n",
    "        abstract = base64.b64decode(feature['abstract']['bytesList']['value'][0]).decode(\"utf-8\")\n",
    "        abstract = re.sub(r\"<s>\", \"\", abstract)\n",
    "        abstract = re.sub(r\"</s>\", \"\", abstract)\n"
   ]
  }
 ],
 "metadata": {
  "kernelspec": {
   "display_name": "Python 3",
   "language": "python",
   "name": "python3"
  },
  "language_info": {
   "codemirror_mode": {
    "name": "ipython",
    "version": 3
   },
   "file_extension": ".py",
   "mimetype": "text/x-python",
   "name": "python",
   "nbconvert_exporter": "python",
   "pygments_lexer": "ipython3",
   "version": "3.5.2"
  }
 },
 "nbformat": 4,
 "nbformat_minor": 2
}
